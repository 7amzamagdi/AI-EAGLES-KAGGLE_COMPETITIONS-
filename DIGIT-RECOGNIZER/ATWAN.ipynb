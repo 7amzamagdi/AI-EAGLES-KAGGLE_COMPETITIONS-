{
 "cells": [
  {
   "cell_type": "markdown",
   "id": "b47f4650-a2fc-4939-89c9-ca7752310017",
   "metadata": {},
   "source": [
    "## Digit Recognizer - Machine Learning Exploration\r\n",
    "\r\n",
    "This notebook explores building a machine learning model for recognizing handwritten digits using the MNIST dataset. \r\n",
    "\r\n",
    "We'll utilize Python libraries like TensorFlow or PyTorch to train a neural network model and evaluate its performance on classifying the digits.\r\n",
    "\r\n",
    "**Dependencies:**\r\n",
    "\r\n",
    "* TensorFlow/PyTorch\r\n",
    "* NumPy, Pandas (for data manipulation)\r\n",
    "\r\n",
    "**Data Source:**\r\n",
    "\r\n",
    "* MNIST Dataset: [https://www.kaggle.com/datasets/hojjatk/mnist-dataset](https://www.kaggle.com/datasets/hojjatk/mnist-dataset)\r\n",
    "\r\n",
    "**References:**\r\n",
    "\r\n",
    "* Deep Learning Book: [https://www.deeplearningbook.org/](https://www.deeplearningbook.org/)\r\n",
    "arningbook.org/)\r\n"
   ]
  },
  {
   "cell_type": "markdown",
   "id": "c9c88ae1-550c-4bd7-a438-5db88e3e1aa6",
   "metadata": {},
   "source": [
    "-------------------------"
   ]
  },
  {
   "cell_type": "markdown",
   "id": "06fa5022-011f-46b0-b6d6-6f0419f6876e",
   "metadata": {},
   "source": [
    "## Get The Packages"
   ]
  },
  {
   "cell_type": "code",
   "execution_count": 10,
   "id": "5fbffa45-dc49-4796-b765-1c73801db336",
   "metadata": {},
   "outputs": [],
   "source": [
    "import pandas as pd\n",
    "import numpy as np\n",
    "import matplotlib.pyplot as plt\n",
    "from sklearn.model_selection import train_test_split\n",
    "from keras.models import Sequential\n",
    "from keras.layers import Conv2D, MaxPooling2D, Flatten, Dense, Dropout\n",
    "from keras.utils import to_categorical\n"
   ]
  },
  {
   "cell_type": "markdown",
   "id": "dedde37c-839a-4d14-bae2-bc4544702051",
   "metadata": {},
   "source": [
    "## Get The Data"
   ]
  },
  {
   "cell_type": "code",
   "execution_count": 2,
   "id": "e0051adb-aedd-437e-a767-50ce31ebf4d4",
   "metadata": {},
   "outputs": [],
   "source": [
    "data = pd.read_csv(\"DATA/train.csv\")"
   ]
  },
  {
   "cell_type": "markdown",
   "id": "a103a5de-badb-4cab-9e1a-d431746a9925",
   "metadata": {},
   "source": [
    "## Some Info About My DATA"
   ]
  },
  {
   "cell_type": "markdown",
   "id": "f37ab5a7-9ad1-4592-86dd-57e00c75390c",
   "metadata": {
    "jp-MarkdownHeadingCollapsed": true
   },
   "source": [
    "### What Lables"
   ]
  },
  {
   "cell_type": "code",
   "execution_count": 3,
   "id": "641630e3-8f10-4b98-8d42-0fccee814491",
   "metadata": {},
   "outputs": [],
   "source": [
    "LABELS = data['label'].unique()"
   ]
  },
  {
   "cell_type": "code",
   "execution_count": 4,
   "id": "97e2088e-ea94-4143-ac03-b19bd33e6d01",
   "metadata": {},
   "outputs": [
    {
     "name": "stdout",
     "output_type": "stream",
     "text": [
      "Lables Are : [1 0 4 7 3 5 8 9 2 6]\n"
     ]
    }
   ],
   "source": [
    "print(f'Lables Are : {LABELS}')"
   ]
  },
  {
   "cell_type": "markdown",
   "id": "1435d553-f574-4e15-adc8-65651197a511",
   "metadata": {
    "jp-MarkdownHeadingCollapsed": true
   },
   "source": [
    "### How Much"
   ]
  },
  {
   "cell_type": "code",
   "execution_count": 5,
   "id": "55221347-160f-4400-bf8d-e3541eea0f5d",
   "metadata": {},
   "outputs": [],
   "source": [
    "COUNT=data['label'].value_counts()"
   ]
  },
  {
   "cell_type": "code",
   "execution_count": 6,
   "id": "5899c7cf-3044-4b24-875f-ec211ed1d2dc",
   "metadata": {},
   "outputs": [
    {
     "name": "stdout",
     "output_type": "stream",
     "text": [
      "       count\n",
      "label       \n",
      "1       4684\n",
      "7       4401\n",
      "3       4351\n",
      "9       4188\n",
      "2       4177\n",
      "6       4137\n",
      "0       4132\n",
      "4       4072\n",
      "8       4063\n",
      "5       3795\n"
     ]
    }
   ],
   "source": [
    "DF = pd.DataFrame(COUNT)\n",
    "print(DF)"
   ]
  },
  {
   "cell_type": "markdown",
   "id": "3008d70b-4968-43f5-b63c-91f1289b790b",
   "metadata": {
    "jp-MarkdownHeadingCollapsed": true
   },
   "source": [
    "### Now Let Us See Some Samples Of Our DATA"
   ]
  },
  {
   "cell_type": "code",
   "execution_count": 7,
   "id": "7c6b75ed-a602-4358-8dbe-19194477e51c",
   "metadata": {},
   "outputs": [
    {
     "data": {
      "image/png": "[encoded data removed]",
      "text/plain": [
       "<Figure size 720x720 with 20 Axes>"
      ]
     },
     "metadata": {
      "needs_background": "light"
     },
     "output_type": "display_data"
    }
   ],
   "source": [
    "#Here We Chise Just % Images From Our Data\n",
    "random_indices = np.random.randint(0, len(data), size=20)\n",
    "\n",
    "#Then Visualize It \n",
    "fig, axes = plt.subplots(nrows=4, ncols=5, figsize=(10, 10))\n",
    "\n",
    "for i, ax in zip(random_indices, axes.flatten()):\n",
    "    \n",
    "    image_data = data.iloc[i, 1:].values.reshape(28, 28)\n",
    "    \n",
    "    label = data.iloc[i, 0] \n",
    "    \n",
    "    ax.imshow(image_data, cmap='gray') \n",
    "    ax.set_title(f'Label: {label}') # Here We Put The Lable Above Each Image\n",
    "    ax.axis('off') \n",
    "plt.show()"
   ]
  },
  {
   "cell_type": "markdown",
   "id": "bb640810-1251-49ac-9e12-6291b5e32808",
   "metadata": {},
   "source": [
    "## Splitting The Data"
   ]
  },
  {
   "cell_type": "code",
   "execution_count": 14,
   "id": "86fa1fe4-6996-4335-a6e1-445a1376679b",
   "metadata": {},
   "outputs": [],
   "source": [
    "# Split features and labels\n",
    "X = data.drop(columns=['label']).values.reshape(-1, 28, 28, 1)\n",
    "y = to_categorical(data['label'])\n",
    "\n",
    "# Perform train-test split\n",
    "X_train, X_test, y_train, y_test = train_test_split(X, y, test_size=0.2, random_state=42)"
   ]
  },
  {
   "cell_type": "markdown",
   "id": "68228223-b76c-4f66-a905-591df5995ab6",
   "metadata": {},
   "source": [
    "## Creations The Models"
   ]
  },
  {
   "cell_type": "code",
   "execution_count": 15,
   "id": "d0f52731-e8da-45dc-a206-ede07847f753",
   "metadata": {},
   "outputs": [],
   "source": [
    "# Define the CNN model\n",
    "model = Sequential([\n",
    "    Conv2D(32, kernel_size=(3, 3), activation='relu', input_shape=(28, 28, 1)),\n",
    "    MaxPooling2D(pool_size=(2, 2)),\n",
    "    Conv2D(64, kernel_size=(3, 3), activation='relu'),\n",
    "    MaxPooling2D(pool_size=(2, 2)),\n",
    "    Flatten(),\n",
    "    Dense(128, activation='relu'),\n",
    "    Dropout(0.25),\n",
    "    Dense(10, activation='softmax')\n",
    "])\n",
    "\n",
    "# Compile the model\n",
    "model.compile(optimizer='adam', loss='categorical_crossentropy', metrics=['accuracy'])"
   ]
  },
  {
   "cell_type": "code",
   "execution_count": 16,
   "id": "dbe58040-45d2-48a6-a0f4-3eb9906dc392",
   "metadata": {},
   "outputs": [
    {
     "name": "stdout",
     "output_type": "stream",
     "text": [
      "Epoch 1/10\n",
      "263/263 [==============================] - 21s 74ms/step - loss: 1.2363 - accuracy: 0.8430 - val_loss: 0.1325 - val_accuracy: 0.9624\n",
      "Epoch 2/10\n",
      "263/263 [==============================] - 19s 71ms/step - loss: 0.1451 - accuracy: 0.9566 - val_loss: 0.0907 - val_accuracy: 0.9735\n",
      "Epoch 3/10\n",
      "263/263 [==============================] - 20s 76ms/step - loss: 0.1025 - accuracy: 0.9701 - val_loss: 0.0811 - val_accuracy: 0.9752\n",
      "Epoch 4/10\n",
      "263/263 [==============================] - 31s 117ms/step - loss: 0.0729 - accuracy: 0.9772 - val_loss: 0.0751 - val_accuracy: 0.9792\n",
      "Epoch 5/10\n",
      "263/263 [==============================] - 22s 83ms/step - loss: 0.0604 - accuracy: 0.9819 - val_loss: 0.0677 - val_accuracy: 0.9796\n",
      "Epoch 6/10\n",
      "263/263 [==============================] - 26s 100ms/step - loss: 0.0560 - accuracy: 0.9826 - val_loss: 0.0651 - val_accuracy: 0.9831\n",
      "Epoch 7/10\n",
      "263/263 [==============================] - 23s 86ms/step - loss: 0.0473 - accuracy: 0.9857 - val_loss: 0.0624 - val_accuracy: 0.9825\n",
      "Epoch 8/10\n",
      "263/263 [==============================] - 19s 73ms/step - loss: 0.0402 - accuracy: 0.9869 - val_loss: 0.0648 - val_accuracy: 0.9835\n",
      "Epoch 9/10\n",
      "263/263 [==============================] - 19s 70ms/step - loss: 0.0333 - accuracy: 0.9891 - val_loss: 0.0590 - val_accuracy: 0.9825\n",
      "Epoch 10/10\n",
      "263/263 [==============================] - 18s 70ms/step - loss: 0.0322 - accuracy: 0.9897 - val_loss: 0.0554 - val_accuracy: 0.9855\n"
     ]
    },
    {
     "data": {
      "text/plain": [
       "<keras.src.callbacks.History at 0x2386e0a1110>"
      ]
     },
     "execution_count": 16,
     "metadata": {},
     "output_type": "execute_result"
    }
   ],
   "source": [
    "# Train the model\n",
    "model.fit(X_train, y_train, batch_size=128, epochs=10, validation_data=(X_test, y_test))"
   ]
  },
  {
   "cell_type": "code",
   "execution_count": 17,
   "id": "2a27ecfa-08b6-4662-a5d2-44b918f1654c",
   "metadata": {},
   "outputs": [
    {
     "name": "stdout",
     "output_type": "stream",
     "text": [
      "263/263 [==============================] - 2s 7ms/step - loss: 0.0554 - accuracy: 0.9855\n",
      "Test accuracy: 0.9854761958122253\n"
     ]
    }
   ],
   "source": [
    "# Evaluate the model\n",
    "loss, accuracy = model.evaluate(X_test, y_test)\n",
    "print(f'Test accuracy: {accuracy}')"
   ]
  },
  {
   "cell_type": "code",
   "execution_count": 20,
   "id": "7e047933-5796-464f-af06-9eaaff163ba8",
   "metadata": {},
   "outputs": [],
   "source": [
    "model.save('Atwan98%.h5')"
   ]
  },
  {
   "cell_type": "code",
   "execution_count": null,
   "id": "43919958-5e3c-4eb6-a5aa-e6ce8158628a",
   "metadata": {},
   "outputs": [],
   "source": []
  }
 ],
 "metadata": {
  "kernelspec": {
   "display_name": "Python 3",
   "language": "python",
   "name": "python3"
  },
  "language_info": {
   "codemirror_mode": {
    "name": "ipython",
    "version": 3
   },
   "file_extension": ".py",
   "mimetype": "text/x-python",
   "name": "python",
   "nbconvert_exporter": "python",
   "pygments_lexer": "ipython3",
   "version": "3.11.0"
  }
 },
 "nbformat": 4,
 "nbformat_minor": 5
}
